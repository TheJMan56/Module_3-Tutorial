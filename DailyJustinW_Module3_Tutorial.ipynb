{
 "cells": [
  {
   "cell_type": "code",
   "execution_count": null,
   "id": "7a1479dd",
   "metadata": {},
   "outputs": [],
   "source": [
    "#Subtraction function\n",
    "\n",
    "def subtract(x,y):\n",
    "    return x - y"
   ]
  },
  {
   "cell_type": "code",
   "execution_count": null,
   "id": "fb77b162",
   "metadata": {},
   "outputs": [],
   "source": [
    "#Division function\n",
    "\n",
    "def divide(x,y):\n",
    "    return x / y"
   ]
  },
  {
   "cell_type": "code",
   "execution_count": null,
   "id": "6d2a3cea",
   "metadata": {},
   "outputs": [],
   "source": [
    "#Math class\n",
    "\n",
    "class do_math:\n",
    "    def __init__(self, val1, val2):\n",
    "        self.val1 = val1\n",
    "        self.val2 = val2\n",
    "\n",
    "    def subtract(self):\n",
    "        return self.val1 - self.val2\n",
    "\n",
    "    def divide(self):\n",
    "        return self.val1 / self.val2"
   ]
  },
  {
   "cell_type": "code",
   "execution_count": null,
   "id": "98df888d",
   "metadata": {},
   "outputs": [],
   "source": [
    "print(subtract(6,2))"
   ]
  },
  {
   "cell_type": "code",
   "execution_count": null,
   "id": "f49dedc8",
   "metadata": {},
   "outputs": [],
   "source": [
    "print(divide(6,2))"
   ]
  },
  {
   "cell_type": "code",
   "execution_count": null,
   "id": "ec197d49",
   "metadata": {},
   "outputs": [],
   "source": [
    "numbers = do_math(6,2)\n",
    "print(numbers.subtract())\n",
    "print(numbers.divide())"
   ]
  },
  {
   "cell_type": "code",
   "execution_count": null,
   "id": "97f3a825",
   "metadata": {},
   "outputs": [],
   "source": []
  }
 ],
 "metadata": {
  "kernelspec": {
   "display_name": "Python 3 (ipykernel)",
   "language": "python",
   "name": "python3"
  },
  "language_info": {
   "codemirror_mode": {
    "name": "ipython",
    "version": 3
   },
   "file_extension": ".py",
   "mimetype": "text/x-python",
   "name": "python",
   "nbconvert_exporter": "python",
   "pygments_lexer": "ipython3",
   "version": "3.9.13"
  }
 },
 "nbformat": 4,
 "nbformat_minor": 5
}
